{
 "cells": [
  {
   "cell_type": "markdown",
   "metadata": {},
   "source": [
    "# Illustration of MABS (Multivariate finite Alphabet Blind Separation) \n",
    "\n",
    "\n",
    "The MABS algorithm, which is analyzed in \n",
    "\n",
    "[1]  *Minimax estimation in linear models with unknown design over finite alphabets*, Behr M and Munk A, \tarXiv:1711.04145\n",
    "\n",
    "takes as input a given finite alphabet $\\mathfrak{A} = \\{ a_1, \\ldots, a_k\\} \\subset \\mathbb{R}$, a given number of sources $m$, and a data matrix $Y$. \n",
    "\n",
    "It yields as output a factorization $Y \\approx F \\Omega$, where $F$ is an $n \\times m$ source matrix which only takes value in the given finite alphabet, that is, $F_{ij}\\in \\mathfrak{A}$ for $i = 1, \\ldots, n, j = 1,\\ldots, m$, and $\\Omega$ is a $m \\times M$ weight matrix with $\\Omega_{ij} \\in \\mathbb{R}_+$ and $\\sum_{i = 1}^m \\Omega_{ij} = 1$ for $i = 1, \\ldots, m, j = 1, \\ldots, M$.\n",
    "\n",
    "In this github repository we provide an implementation of the algorithm, as well as all source code which generates figures and simulation results presented in [1]. For details on the algorithm and a theoretical analysis, we refer to [1]. In the following we provide a short illustration on how to use the implementation.\n",
    "\n",
    "The implementation requires the R package *combinat*."
   ]
  },
  {
   "cell_type": "code",
   "execution_count": 2,
   "metadata": {},
   "outputs": [
    {
     "name": "stderr",
     "output_type": "stream",
     "text": [
      "Loading required package: combinat\n",
      "\n",
      "\n",
      "Attaching package: ‘combinat’\n",
      "\n",
      "\n",
      "The following object is masked from ‘package:utils’:\n",
      "\n",
      "    combn\n",
      "\n",
      "\n"
     ]
    }
   ],
   "source": [
    "if (!require(\"combinat\")) install.packages(\"combinat\")"
   ]
  },
  {
   "cell_type": "markdown",
   "metadata": {},
   "source": [
    "First, we load the functions which provide the MABS implementation."
   ]
  },
  {
   "cell_type": "code",
   "execution_count": 3,
   "metadata": {},
   "outputs": [],
   "source": [
    "source(\"scripts/functions.R\")"
   ]
  },
  {
   "cell_type": "markdown",
   "metadata": {},
   "source": [
    "For illustration purposes, we generate a data matrix $Y$ with known source and weight matrix. First, we define the number of sources $m$, the standard deviation of the noise $\\sigma$, the alphabet, the number of mixtures $M$, as well as the number of samples $n$."
   ]
  },
  {
   "cell_type": "code",
   "execution_count": 44,
   "metadata": {},
   "outputs": [],
   "source": [
    "m <- 3 #number of sources\n",
    "sigma <- 0.5 #standard deviation of noise\n",
    "al <- 0:2 #alphabet\n",
    "M <- 30 #number of mixtures\n",
    "n <- 500 #number of samples"
   ]
  },
  {
   "cell_type": "markdown",
   "metadata": {},
   "source": [
    "We can generate a random $m \\times M$ weight matrix $\\Omega$ using the function *rOmega*. We also randomly select a source matrix, with elements uniformly selected from the alphabet."
   ]
  },
  {
   "cell_type": "code",
   "execution_count": 51,
   "metadata": {},
   "outputs": [],
   "source": [
    "trOm <- rOmega(m , M)\n",
    "trF <- matrix(sample(al, n * m, replace = T), ncol = m)"
   ]
  },
  {
   "cell_type": "markdown",
   "metadata": {},
   "source": [
    "For the data matrix $Y$ we add i.i.d. Gaussian noise to the mixture matrix $F \\Omega$."
   ]
  },
  {
   "cell_type": "code",
   "execution_count": 52,
   "metadata": {},
   "outputs": [],
   "source": [
    "y <- trF %*% trOm + rnorm(n * M, sd = sigma)"
   ]
  },
  {
   "cell_type": "markdown",
   "metadata": {},
   "source": [
    "Given the data matrix $Y$, the number of sources $m$, and the alphabet $\\mathfrak{A}$ we can now estimate the weight matrix with the MABS algorithm as follows."
   ]
  },
  {
   "cell_type": "code",
   "execution_count": 53,
   "metadata": {},
   "outputs": [
    {
     "name": "stdout",
     "output_type": "stream",
     "text": [
      " num [1:3, 1:30] 0.401 0.385 0.524 0.418 0.303 ...\n",
      " - attr(*, \"baseline\")= num [1:30] 0.1644 -0.1963 -0.1303 -0.3257 0.0114 ...\n"
     ]
    }
   ],
   "source": [
    "estOm <- estOmega(y, m, al)\n",
    "\n",
    "str(estOm)"
   ]
  },
  {
   "cell_type": "markdown",
   "metadata": {},
   "source": [
    "Given the estimated $\\hat{\\Omega}$, the source matrix is then estimated row-wise, according to the closest mixture value."
   ]
  },
  {
   "cell_type": "code",
   "execution_count": 54,
   "metadata": {},
   "outputs": [
    {
     "name": "stdout",
     "output_type": "stream",
     "text": [
      " int [1:500, 1:3] 2 1 2 2 1 0 1 1 2 1 ...\n",
      " - attr(*, \"dimnames\")=List of 2\n",
      "  ..$ : NULL\n",
      "  ..$ : chr [1:3] \"Var1\" \"Var2\" \"Var3\"\n"
     ]
    }
   ],
   "source": [
    "Am <- as.matrix(expand.grid(rep(list(al), m))) #matrix with different alphabet combinations\n",
    "valEst <- Am %*% estOm #matrix with different mixtures values\n",
    "\n",
    "# estimate the finite alphabet source matrix row wise\n",
    "indEstF <- sapply(1:nrow(y), function(i) which.min(colSums( (y[i,] - t(valEst) )^2 ) ))\n",
    "estF <- Am[indEstF, ]\n",
    "\n",
    "str(estF)"
   ]
  },
  {
   "cell_type": "markdown",
   "metadata": {},
   "source": [
    "Weight and source matrix in the MABS model are only defined up to a permutation of the columns of $F$ and the rows of $\\Omega$. In order to evaluate the quality of the estimates $\\hat{F}$ and $\\hat{\\Omega}$ we can search through all permutations to find the one which fits best."
   ]
  },
  {
   "cell_type": "code",
   "execution_count": 55,
   "metadata": {},
   "outputs": [
    {
     "name": "stdout",
     "output_type": "stream",
     "text": [
      "[1] 0.5346667 0.3753333 0.4913333 0.8426667 0.5573333 0.3653333\n",
      "[1] 3 2 1\n"
     ]
    }
   ],
   "source": [
    "perm <- permn(1:m)\n",
    "accA_perm <- numeric(length(perm))\n",
    "    for(i in 1:length(perm)){\n",
    "        accA_perm[i] <- mean(estF[, perm[[i]]] == trF)\n",
    "      }\n",
    "\n",
    "print(accA_perm)\n",
    "\n",
    "perm_opt = perm[[which.max(accA_perm)]]\n",
    "print(perm_opt)\n",
    "\n",
    "estF <- estF[, perm_opt]\n",
    "estOm <- estOm[perm_opt,]"
   ]
  },
  {
   "cell_type": "markdown",
   "metadata": {},
   "source": [
    "Now we can compare the estimated weight and source matrix with the underlying truth."
   ]
  },
  {
   "cell_type": "code",
   "execution_count": 56,
   "metadata": {},
   "outputs": [
    {
     "name": "stdout",
     "output_type": "stream",
     "text": [
      "[1] \"Top columns of estimated weight matrix:\"\n",
      "           [,1]      [,2]        [,3]\n",
      "[1,] 0.52360171 0.3851794  0.40122365\n",
      "[2,] 0.39806026 0.3032816  0.41757281\n",
      "[3,] 0.25533051 0.7027353  0.19437430\n",
      "[4,] 0.01271637 0.3104841  0.48580015\n",
      "[5,] 0.72221046 0.4019897 -0.05259798\n",
      "[6,] 0.47759169 0.4069763  0.06147404\n",
      "[1] \"Top columns of true weight matrix:\"\n",
      "            [,1]       [,2]       [,3]\n",
      "[1,] 0.397666742 0.24232133 0.36001193\n",
      "[2,] 0.530189358 0.08325727 0.38655337\n",
      "[3,] 0.236055095 0.61881709 0.14512781\n",
      "[4,] 0.005615828 0.39801693 0.59636724\n",
      "[5,] 0.671644026 0.24886919 0.07948678\n",
      "[6,] 0.415061198 0.52858389 0.05635492\n",
      "[1] \"Top rows of estimated source matrix:\"\n",
      "     Var3 Var2 Var1\n",
      "[1,]    0    0    2\n",
      "[2,]    1    1    1\n",
      "[3,]    0    1    2\n",
      "[4,]    0    1    2\n",
      "[5,]    2    0    1\n",
      "[6,]    0    0    0\n",
      "[1] \"Top rows of true source matrix:\"\n",
      "     [,1] [,2] [,3]\n",
      "[1,]    0    0    2\n",
      "[2,]    1    1    1\n",
      "[3,]    0    1    2\n",
      "[4,]    0    1    2\n",
      "[5,]    1    0    2\n",
      "[6,]    0    0    0\n"
     ]
    }
   ],
   "source": [
    "print(\"Top columns of estimated weight matrix:\")\n",
    "print(head(t(estOm)))\n",
    "\n",
    "print(\"Top columns of true weight matrix:\")\n",
    "print(head(t(trOm)))\n",
    "\n",
    "print(\"Top rows of estimated source matrix:\")\n",
    "print(head(estF))\n",
    "\n",
    "print(\"Top rows of true source matrix:\")\n",
    "print(head(trF))"
   ]
  },
  {
   "cell_type": "code",
   "execution_count": null,
   "metadata": {},
   "outputs": [],
   "source": []
  }
 ],
 "metadata": {
  "kernelspec": {
   "display_name": "R",
   "language": "R",
   "name": "ir"
  },
  "language_info": {
   "codemirror_mode": "r",
   "file_extension": ".r",
   "mimetype": "text/x-r-source",
   "name": "R",
   "pygments_lexer": "r",
   "version": "4.0.3"
  }
 },
 "nbformat": 4,
 "nbformat_minor": 2
}
